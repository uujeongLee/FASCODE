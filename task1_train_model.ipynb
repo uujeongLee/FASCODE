{
  "cells": [
    {
      "cell_type": "markdown",
      "metadata": {
        "id": "view-in-github",
        "colab_type": "text"
      },
      "source": [
        "<a href=\"https://colab.research.google.com/github/uujeongLee/FASCODE/blob/main/task1_train_model.ipynb\" target=\"_parent\"><img src=\"https://colab.research.google.com/assets/colab-badge.svg\" alt=\"Open In Colab\"/></a>"
      ]
    },
    {
      "cell_type": "markdown",
      "metadata": {
        "id": "wqsUR4xswrLc"
      },
      "source": [
        "https://codegongbang.tistory.com/16"
      ]
    },
    {
      "cell_type": "markdown",
      "source": [
        "**안녕하세요? 이 코드는 도도돋도도 ....!\n",
        " 데이터 전처리 및 모델까지 완료했어요.위에 있는 셀 N개만 돌리면 제출 가능합니다.!**"
      ],
      "metadata": {
        "id": "jyyG4ecvXXlR"
      }
    },
    {
      "cell_type": "markdown",
      "metadata": {
        "id": "mqE8u6L8wrLe"
      },
      "source": [
        "## 이미지 데이터를 파이썬 데이터로 변환하기"
      ]
    },
    {
      "cell_type": "code",
      "source": [
        "!pip install -U aifactory"
      ],
      "metadata": {
        "colab": {
          "base_uri": "https://localhost:8080/"
        },
        "id": "kitfk4vMbC46",
        "outputId": "05209734-497e-40a5-bcf5-8269ab4ceac0"
      },
      "execution_count": null,
      "outputs": [
        {
          "output_type": "stream",
          "name": "stdout",
          "text": [
            "Collecting aifactory\n",
            "  Downloading aifactory-1.8.7-py3-none-any.whl (9.2 kB)\n",
            "Collecting pipreqs (from aifactory)\n",
            "  Downloading pipreqs-0.4.13-py2.py3-none-any.whl (33 kB)\n",
            "Collecting ipynbname (from aifactory)\n",
            "  Downloading ipynbname-2023.2.0.0-py3-none-any.whl (4.3 kB)\n",
            "Requirement already satisfied: gdown in /usr/local/lib/python3.10/dist-packages (from aifactory) (4.6.6)\n",
            "Requirement already satisfied: requests in /usr/local/lib/python3.10/dist-packages (from aifactory) (2.31.0)\n",
            "Requirement already satisfied: IPython in /usr/local/lib/python3.10/dist-packages (from aifactory) (7.34.0)\n",
            "Requirement already satisfied: filelock in /usr/local/lib/python3.10/dist-packages (from gdown->aifactory) (3.12.2)\n",
            "Requirement already satisfied: six in /usr/local/lib/python3.10/dist-packages (from gdown->aifactory) (1.16.0)\n",
            "Requirement already satisfied: tqdm in /usr/local/lib/python3.10/dist-packages (from gdown->aifactory) (4.66.1)\n",
            "Requirement already satisfied: beautifulsoup4 in /usr/local/lib/python3.10/dist-packages (from gdown->aifactory) (4.11.2)\n",
            "Requirement already satisfied: ipykernel in /usr/local/lib/python3.10/dist-packages (from ipynbname->aifactory) (5.5.6)\n",
            "Requirement already satisfied: setuptools>=18.5 in /usr/local/lib/python3.10/dist-packages (from IPython->aifactory) (67.7.2)\n",
            "Collecting jedi>=0.16 (from IPython->aifactory)\n",
            "  Downloading jedi-0.19.0-py2.py3-none-any.whl (1.6 MB)\n",
            "\u001b[2K     \u001b[90m━━━━━━━━━━━━━━━━━━━━━━━━━━━━━━━━━━━━━━━━\u001b[0m \u001b[32m1.6/1.6 MB\u001b[0m \u001b[31m22.7 MB/s\u001b[0m eta \u001b[36m0:00:00\u001b[0m\n",
            "\u001b[?25hRequirement already satisfied: decorator in /usr/local/lib/python3.10/dist-packages (from IPython->aifactory) (4.4.2)\n",
            "Requirement already satisfied: pickleshare in /usr/local/lib/python3.10/dist-packages (from IPython->aifactory) (0.7.5)\n",
            "Requirement already satisfied: traitlets>=4.2 in /usr/local/lib/python3.10/dist-packages (from IPython->aifactory) (5.7.1)\n",
            "Requirement already satisfied: prompt-toolkit!=3.0.0,!=3.0.1,<3.1.0,>=2.0.0 in /usr/local/lib/python3.10/dist-packages (from IPython->aifactory) (3.0.39)\n",
            "Requirement already satisfied: pygments in /usr/local/lib/python3.10/dist-packages (from IPython->aifactory) (2.16.1)\n",
            "Requirement already satisfied: backcall in /usr/local/lib/python3.10/dist-packages (from IPython->aifactory) (0.2.0)\n",
            "Requirement already satisfied: matplotlib-inline in /usr/local/lib/python3.10/dist-packages (from IPython->aifactory) (0.1.6)\n",
            "Requirement already satisfied: pexpect>4.3 in /usr/local/lib/python3.10/dist-packages (from IPython->aifactory) (4.8.0)\n",
            "Collecting docopt (from pipreqs->aifactory)\n",
            "  Downloading docopt-0.6.2.tar.gz (25 kB)\n",
            "  Preparing metadata (setup.py) ... \u001b[?25l\u001b[?25hdone\n",
            "Collecting yarg (from pipreqs->aifactory)\n",
            "  Downloading yarg-0.1.9-py2.py3-none-any.whl (19 kB)\n",
            "Requirement already satisfied: charset-normalizer<4,>=2 in /usr/local/lib/python3.10/dist-packages (from requests->aifactory) (3.2.0)\n",
            "Requirement already satisfied: idna<4,>=2.5 in /usr/local/lib/python3.10/dist-packages (from requests->aifactory) (3.4)\n",
            "Requirement already satisfied: urllib3<3,>=1.21.1 in /usr/local/lib/python3.10/dist-packages (from requests->aifactory) (2.0.4)\n",
            "Requirement already satisfied: certifi>=2017.4.17 in /usr/local/lib/python3.10/dist-packages (from requests->aifactory) (2023.7.22)\n",
            "Requirement already satisfied: parso<0.9.0,>=0.8.3 in /usr/local/lib/python3.10/dist-packages (from jedi>=0.16->IPython->aifactory) (0.8.3)\n",
            "Requirement already satisfied: ptyprocess>=0.5 in /usr/local/lib/python3.10/dist-packages (from pexpect>4.3->IPython->aifactory) (0.7.0)\n",
            "Requirement already satisfied: wcwidth in /usr/local/lib/python3.10/dist-packages (from prompt-toolkit!=3.0.0,!=3.0.1,<3.1.0,>=2.0.0->IPython->aifactory) (0.2.6)\n",
            "Requirement already satisfied: soupsieve>1.2 in /usr/local/lib/python3.10/dist-packages (from beautifulsoup4->gdown->aifactory) (2.5)\n",
            "Requirement already satisfied: ipython-genutils in /usr/local/lib/python3.10/dist-packages (from ipykernel->ipynbname->aifactory) (0.2.0)\n",
            "Requirement already satisfied: jupyter-client in /usr/local/lib/python3.10/dist-packages (from ipykernel->ipynbname->aifactory) (6.1.12)\n",
            "Requirement already satisfied: tornado>=4.2 in /usr/local/lib/python3.10/dist-packages (from ipykernel->ipynbname->aifactory) (6.3.2)\n",
            "Requirement already satisfied: PySocks!=1.5.7,>=1.5.6 in /usr/local/lib/python3.10/dist-packages (from requests->aifactory) (1.7.1)\n",
            "Requirement already satisfied: jupyter-core>=4.6.0 in /usr/local/lib/python3.10/dist-packages (from jupyter-client->ipykernel->ipynbname->aifactory) (5.3.1)\n",
            "Requirement already satisfied: pyzmq>=13 in /usr/local/lib/python3.10/dist-packages (from jupyter-client->ipykernel->ipynbname->aifactory) (23.2.1)\n",
            "Requirement already satisfied: python-dateutil>=2.1 in /usr/local/lib/python3.10/dist-packages (from jupyter-client->ipykernel->ipynbname->aifactory) (2.8.2)\n",
            "Requirement already satisfied: platformdirs>=2.5 in /usr/local/lib/python3.10/dist-packages (from jupyter-core>=4.6.0->jupyter-client->ipykernel->ipynbname->aifactory) (3.10.0)\n",
            "Building wheels for collected packages: docopt\n",
            "  Building wheel for docopt (setup.py) ... \u001b[?25l\u001b[?25hdone\n",
            "  Created wheel for docopt: filename=docopt-0.6.2-py2.py3-none-any.whl size=13705 sha256=ea238c3946cd171d3e5ab61e062f85f7564667f01d0d441ac111ac2e1bd5f145\n",
            "  Stored in directory: /root/.cache/pip/wheels/fc/ab/d4/5da2067ac95b36618c629a5f93f809425700506f72c9732fac\n",
            "Successfully built docopt\n",
            "Installing collected packages: docopt, jedi, yarg, pipreqs, ipynbname, aifactory\n",
            "Successfully installed aifactory-1.8.7 docopt-0.6.2 ipynbname-2023.2.0.0 jedi-0.19.0 pipreqs-0.4.13 yarg-0.1.9\n"
          ]
        }
      ]
    },
    {
      "cell_type": "code",
      "execution_count": null,
      "metadata": {
        "id": "JQ8mEHawwrLg"
      },
      "outputs": [],
      "source": [
        "from PIL import Image\n",
        "import os, glob\n",
        "import numpy as np\n",
        "from sklearn.model_selection import train_test_split\n",
        "import csv\n",
        "import pandas as pd\n",
        "import matplotlib.pyplot as plt\n",
        "from keras.models import Sequential\n",
        "from keras.layers import Convolution2D, MaxPooling2D\n",
        "from keras.layers import Activation, Dropout, Flatten, Dense\n",
        "\n",
        "%matplotlib inline"
      ]
    },
    {
      "cell_type": "markdown",
      "source": [],
      "metadata": {
        "id": "O4MwevLxw5F8"
      }
    },
    {
      "cell_type": "code",
      "source": [
        "# 이것은 전역 선언\n",
        "from google.colab import drive\n",
        "drive.mount('/content/drive')\n",
        "\n",
        "import sys\n",
        "sys.path.append('/content/drive/MyDrive/ETRI_RE')  # my_project 디렉토리의 경로로 변경해야 합니다."
      ],
      "metadata": {
        "colab": {
          "base_uri": "https://localhost:8080/"
        },
        "id": "vxmBxX34w-6n",
        "outputId": "69e5d55f-f1d9-4d23-9619-7bdfa6c5640a"
      },
      "execution_count": null,
      "outputs": [
        {
          "output_type": "stream",
          "name": "stdout",
          "text": [
            "Drive already mounted at /content/drive; to attempt to forcibly remount, call drive.mount(\"/content/drive\", force_remount=True).\n"
          ]
        }
      ]
    },
    {
      "cell_type": "code",
      "source": [
        "def CODICODING() :\n",
        "  # 우리 패키지\n",
        "  from PIL import Image\n",
        "  import os, glob\n",
        "  import numpy as np\n",
        "  from sklearn.model_selection import train_test_split\n",
        "  import csv\n",
        "  import pandas as pd\n",
        "  import matplotlib.pyplot as plt\n",
        "  from keras.models import Sequential\n",
        "  from keras.layers import Convolution2D, MaxPooling2D\n",
        "  from keras.layers import Activation, Dropout, Flatten, Dense\n",
        "\n",
        "\n",
        "\n",
        "  # ETRI 패키지\n",
        "\n",
        "  from dataset import ETRIDataset_emo\n",
        "  from networks import ResExtractor, Baseline_ResNet_emo\n",
        "\n",
        "  import pandas as pd\n",
        "  import numpy as np\n",
        "  from sklearn.metrics import confusion_matrix\n",
        "\n",
        "  import torch\n",
        "  import torch.utils.data\n",
        "  import torch.utils.data.distributed\n",
        "\n",
        "  from tqdm import tqdm\n",
        "\n",
        "  # Test-set 만들기\n",
        "  Test_csv = pd.read_csv('/aif/Dataset/info_etri20_emotion_test.csv')\n",
        "  # 분류 대상 카테고리 선택하기 --- (※1)\n",
        "  test_dir = ETRIDataset_emo(Test_csv, base_path='/aif/Dataset/Test/')\n",
        "  #nb_classes = len(categories)\n",
        "  test_Y_Gender = Test_csv['Gender']\n",
        "  test_Y_Daily = Test_csv['Daily']\n",
        "  test_Y_Embellishment = Test_csv['Embellishment']\n",
        "\n",
        "  # 이미지 크기 지정 --- (※2)\n",
        "  image_w = 64\n",
        "  image_h = 64\n",
        "  pixels = image_w * image_h * 3\n",
        "\n",
        "  # 이미지 데이터 읽어 들이기 --- (※3)\n",
        "  test_X = []\n",
        "  #Y = []\n",
        "  for idx, image_name in enumerate(Test_csv['image_name']):\n",
        "      #print(image_name)\n",
        "      #print(idx)\n",
        "      f = test_dir + '/' + image_name\n",
        "      img = Image.open(f) # --- (※6)\n",
        "\n",
        "      # x_min, y_min, x_max, y_max 정의\n",
        "      x_min = int(Test_csv['BBox_xmin'][idx])\n",
        "      y_min = int(Test_csv['BBox_ymin'][idx])\n",
        "      x_max = int(Test_csv['BBox_xmax'][idx])\n",
        "      y_max = int(Test_csv['BBox_ymax'][idx])\n",
        "\n",
        "      # 좌표로 이미지 자르기\n",
        "      crop_img = img.crop((x_min, y_min, x_max, y_max))\n",
        "\n",
        "      img = crop_img.convert(\"RGB\")\n",
        "      img = img.resize((image_w, image_h))\n",
        "      data = np.asarray(img)\n",
        "      test_X.append(data)\n",
        "\n",
        "  # 각각의 데이터들 numpy array로 변환\n",
        "  test_X = np.array(test_X)\n",
        "  test_Y_Gender = np.array(test_Y_Gender)\n",
        "  test_Y_Daily = np.array(test_Y_Daily)\n",
        "  test_Y_Embellishment = np.array(test_Y_Embellishment)\n",
        "\n",
        "  # 정규화\n",
        "  test_X  = test_X.astype(\"float\")  / 256\n",
        "\n",
        "  # 이미지 크기 지정하기\n",
        "  image_w = 64\n",
        "  image_h = 64\n",
        "\n",
        "\n",
        "  # Gender 성\n",
        "  # Gender_xy = (train_X, test_X, train_Y_Gender, test_Y_Gender)\n",
        "\n",
        "  # 카테고리 지정하기\n",
        "  Gender_categories = [0,1,2,3,4]\n",
        "  Gender_nb_classes = len(Gender_categories)\n",
        "\n",
        "  # Daily 일상성\n",
        "  # 카테고리 지정하기\n",
        "  Daily_categories = [0,1,2,3,4,5,6]\n",
        "  Daily_nb_classes = len(Daily_categories)\n",
        "\n",
        "  #Embellishment 장식성\n",
        "  # 카테고리 지정하기\n",
        "  Embellishment_categories = [0,1,2,3]\n",
        "  nb_classes = len(Embellishment_categories)\n",
        "\n",
        "  # Gender\n",
        "  # Category 0~4를 2진수 배열 형태의 a~e로 변환\n",
        "  # 5, 7, 4\n",
        "  train_Y_Gender_bin = []\n",
        "  test_Y_Gender_bin = []\n",
        "\n",
        "  a = [1, 0, 0, 0, 0]\n",
        "  b = [0, 1, 0, 0, 0]\n",
        "  c = [0, 0, 1, 0, 0]\n",
        "  d = [0, 0, 0, 1, 0]\n",
        "  e = [0, 0, 0, 0, 1]\n",
        "\n",
        "  for before ,name in [[test_Y_Gender,test_Y_Gender_bin] ] :\n",
        "    for y in before :\n",
        "      if y == 0:\n",
        "          name.append(a)\n",
        "      if y == 1:\n",
        "          name.append(b)\n",
        "      if y == 2:\n",
        "          name.append(c)\n",
        "      if y == 3:\n",
        "          name.append(d)\n",
        "      if y == 4:\n",
        "          name.append(e)\n",
        "  # Daily\n",
        "  # Category 0~6를 2진수 배열 형태의 a~g로 변환\n",
        "\n",
        "  train_Y_Daily_bin = []\n",
        "  test_Y_Daily_bin = []\n",
        "\n",
        "  a = [1, 0, 0, 0, 0, 0, 0]\n",
        "  b = [0, 1, 0, 0, 0, 0, 0]\n",
        "  c = [0, 0, 1, 0, 0, 0, 0]\n",
        "  d = [0, 0, 0, 1, 0, 0, 0]\n",
        "  e = [0, 0, 0, 0, 1, 0, 0]\n",
        "  f = [0, 0, 0, 1, 0, 1, 0]\n",
        "  g = [0, 0, 0, 0, 0, 0, 1]\n",
        "\n",
        "  for before ,name in [[test_Y_Daily, test_Y_Daily_bin] ]  :\n",
        "    for y in before :\n",
        "      if y == 0:\n",
        "          name.append(a)\n",
        "      if y == 1:\n",
        "          name.append(b)\n",
        "      if y == 2:\n",
        "          name.append(c)\n",
        "      if y == 3:\n",
        "          name.append(d)\n",
        "      if y == 4:\n",
        "          name.append(e)\n",
        "      if y == 5:\n",
        "          name.append(f)\n",
        "      if y == 6:\n",
        "          name.append(g)\n",
        "\n",
        "  # Embellishment\n",
        "  # Category 0~3를 2진수 배열 형태의 a~d로 변환\n",
        "\n",
        "  train_Y_Embellishment_bin = []\n",
        "  test_Y_Embellishment_bin = []\n",
        "\n",
        "  a = [1, 0, 0, 0]\n",
        "  b = [0, 1, 0, 0]\n",
        "  c = [0, 0, 1, 0]\n",
        "  d = [0, 0, 0, 1]\n",
        "\n",
        "\n",
        "  for before ,name in [[test_Y_Embellishment,test_Y_Embellishment_bin] ] :\n",
        "    for y in before :\n",
        "      if y == 0:\n",
        "          name.append(a)\n",
        "      if y == 1:\n",
        "          name.append(b)\n",
        "      if y == 2:\n",
        "          name.append(c)\n",
        "      if y == 3:\n",
        "          name.append(d)\n",
        "\n",
        "  # 각 리스트들을 numpy array로 변환\n",
        "  test_Y_Gender_bin = np.array(test_Y_Gender_bin)\n",
        "  test_Y_Daily_bin = np.array(test_Y_Daily_bin)\n",
        "  test_Y_Embellishment_bin = np.array(test_Y_Embellishment_bin)\n",
        "\n",
        "  # 모델 불러오기\n",
        "  from keras.models import load_model\n",
        "  Gender_model = load_model(\"/content/drive/MyDrive/ETRI_RE/CNN_models/Gender_model_CNN.h5\")          # 모델 불러오는 경로를 설정하거나 JUPYTER 에서 같은 디렉토리에 두어야할 것 같아요.\n",
        "  Daily_model = load_model(\"/content/drive/MyDrive/ETRI_RE/CNN_models/Daily_model_CNN.h5\")\n",
        "  Embellishment_model = load_model(\"/content/drive/MyDrive/ETRI_RE/CNN_models/Embellishment_model_CNN.h5\")\n",
        "\n",
        "  #pred l 모델 명 각각 바꿔서 복사하기\n",
        "  Gender_pred = Gender_model.predict(test_X)\n",
        "  Gender_pred = np.argmax(pred, axis=1)\n",
        "  Gender_pred = Gender_pred.astype(float)\n",
        "  Gender_pred = np.round(Gender_pred, decimals =1 )\n",
        "\n",
        "  #pred l 모델 명 각각 바꿔서 복사하기\n",
        "  Daily_pred = Daily_model.predict(test_X)\n",
        "  Daily_pred = np.argmax(pred, axis=1)\n",
        "  Daily_pred  = Daily_pred.astype(float)\n",
        "  Daily_pred  = np.round(Daily_pred , decimals =1 )\n",
        "\n",
        "  #pred l 모델 명 각각 바꿔서 복사하기\n",
        "  Embellishment_pred = Embellishment_model.predict(test_X)\n",
        "  Embellishment_pred = np.argmax(Embellishment_pred, axis=1)\n",
        "  Embellishment_pred = Embellishment_pred.astype(float)\n",
        "  Embellishment_pred = np.round(Embellishment_pred, decimals =1 )\n",
        "\n",
        "  out = pd.DataFrame({'image_name':df['image_name'], 'daily':Daily_pred, 'gender':Gender_pred, 'embel':Embellishment_pred})\n",
        "  return out"
      ],
      "metadata": {
        "id": "-37dwA4k4Nwp"
      },
      "execution_count": null,
      "outputs": []
    },
    {
      "cell_type": "code",
      "source": [
        "# 한번  Warpping\n",
        "def submit() :\n",
        "  return CODICODING"
      ],
      "metadata": {
        "id": "Y28Rrxe7sOgm"
      },
      "execution_count": null,
      "outputs": []
    },
    {
      "cell_type": "code",
      "source": [
        "import aifactory.score as aif\n",
        "import time\n",
        "t = time.time()\n",
        "if __name__ == \"__main__\":\n",
        "    #-----------------------------------------------------#\n",
        "    aif.submit(model_name=\"코디코딩TASK1\",                                        # 본인의 모델명 입력(버전 관리에 용이하게끔 편의에 맞게 지정합니다)\n",
        "               key=\"b4c94d1c-c866-494e-b6bc-6c2d2e625685\",                      # 본인의 task key 입력, 주석 해제하면 제출할 수 있어요. 될지는 모르겠습니다만,,,,\n",
        "               func=submit                                                      # 3.에서 wrapping한 submit function\n",
        "               )\n",
        "    #-----------------------------------------------------#\n",
        "    print(time.time() - t)"
      ],
      "metadata": {
        "id": "Dngejtq4bPd1",
        "colab": {
          "base_uri": "https://localhost:8080/"
        },
        "outputId": "31cb2d4e-624b-42eb-cae8-f6b2d6b86872"
      },
      "execution_count": null,
      "outputs": [
        {
          "output_type": "stream",
          "name": "stdout",
          "text": [
            "file : fileId=1pRnWxjLEuseoEC4XrsnURlfkdJDsR9bR\n",
            "Running on CoLab\n",
            "google colab\n"
          ]
        },
        {
          "output_type": "stream",
          "name": "stderr",
          "text": [
            "Downloading...\n",
            "From: https://drive.google.com/uc?id=1pRnWxjLEuseoEC4XrsnURlfkdJDsR9bR\n",
            "To: /content/task.ipynb\n",
            "100%|██████████| 48.3k/48.3k [00:00<00:00, 28.2MB/s]\n"
          ]
        },
        {
          "output_type": "stream",
          "name": "stdout",
          "text": [
            "파일 전송 완료\n",
            "error = [NbConvertApp] Converting notebook /aif/src/task.ipynb to notebook\n",
            "2023-09-14 12:16:22.110802: I tensorflow/core/platform/cpu_feature_guard.cc:193] This TensorFlow binary is optimized with oneAPI Deep Neural Network Library (oneDNN) to use the following CPU instructions in performance-critical operations:  AVX2 FMA\n",
            "To enable them in other operations, rebuild TensorFlow with the appropriate compiler flags.\n",
            "2023-09-14 12:16:23.546974: W tensorflow/compiler/xla/stream_executor/platform/default/dso_loader.cc:64] Could not load dynamic library 'libnvinfer.so.7'; dlerror: libnvinfer.so.7: cannot open shared object file: No such file or directory; LD_LIBRARY_PATH: /usr/local/nvidia/lib:/usr/local/nvidia/lib64\n",
            "2023-09-14 12:16:23.547200: W tensorflow/compiler/xla/stream_executor/platform/default/dso_loader.cc:64] Could not load dynamic library 'libnvinfer_plugin.so.7'; dlerror: libnvinfer_plugin.so.7: cannot open shared object file: No such file or directory; LD_LIBRARY_PATH: /usr/local/nvidia/lib:/usr/local/nvidia/lib64\n",
            "2023-09-14 12:16:23.547217: W tensorflow/compiler/tf2tensorrt/utils/py_utils.cc:38] TF-TRT Warning: Cannot dlopen some TensorRT libraries. If you would like to use Nvidia GPU with TensorRT, please make sure the missing libraries mentioned above are installed properly.\n",
            "Traceback (most recent call last):\n",
            "  File \"/usr/local/bin/jupyter-nbconvert\", line 8, in <module>\n",
            "    sys.exit(main())\n",
            "  File \"/usr/local/lib/python3.9/dist-packages/jupyter_core/application.py\", line 277, in launch_instance\n",
            "    return super().launch_instance(argv=argv, **kwargs)\n",
            "  File \"/usr/local/lib/python3.9/dist-packages/traitlets/config/application.py\", line 1043, in launch_instance\n",
            "    app.start()\n",
            "  File \"/usr/local/lib/python3.9/dist-packages/nbconvert/nbconvertapp.py\", line 414, in start\n",
            "    self.convert_notebooks()\n",
            "  File \"/usr/local/lib/python3.9/dist-packages/nbconvert/nbconvertapp.py\", line 603, in convert_notebooks\n",
            "    self.convert_single_notebook(notebook_filename)\n",
            "  File \"/usr/local/lib/python3.9/dist-packages/nbconvert/nbconvertapp.py\", line 557, in convert_single_notebook\n",
            "    output, resources = self.export_single_notebook(\n",
            "  File \"/usr/local/lib/python3.9/dist-packages/nbconvert/nbconvertapp.py\", line 483, in export_single_notebook\n",
            "    output, resources = self.exporter.from_filename(\n",
            "  File \"/usr/local/lib/python3.9/dist-packages/nbconvert/exporters/exporter.py\", line 200, in from_filename\n",
            "    return self.from_file(f, resources=resources, **kw)\n",
            "  File \"/usr/local/lib/python3.9/dist-packages/nbconvert/exporters/exporter.py\", line 219, in from_file\n",
            "    return self.from_notebook_node(\n",
            "  File \"/usr/local/lib/python3.9/dist-packages/nbconvert/exporters/notebook.py\", line 36, in from_notebook_node\n",
            "    nb_copy, resources = super().from_notebook_node(nb, resources, **kw)\n",
            "  File \"/usr/local/lib/python3.9/dist-packages/nbconvert/exporters/exporter.py\", line 153, in from_notebook_node\n",
            "    nb_copy, resources = self._preprocess(nb_copy, resources)\n",
            "  File \"/usr/local/lib/python3.9/dist-packages/nbconvert/exporters/exporter.py\", line 351, in _preprocess\n",
            "    nbc, resc = preprocessor(nbc, resc)\n",
            "  File \"/usr/local/lib/python3.9/dist-packages/nbconvert/preprocessors/base.py\", line 48, in __call__\n",
            "    return self.preprocess(nb, resources)\n",
            "  File \"/usr/local/lib/python3.9/dist-packages/nbconvert/preprocessors/execute.py\", line 100, in preprocess\n",
            "    self.preprocess_cell(cell, resources, index)\n",
            "  File \"/usr/local/lib/python3.9/dist-packages/nbconvert/preprocessors/execute.py\", line 121, in preprocess_cell\n",
            "    cell = self.execute_cell(cell, index, store_history=True)\n",
            "  File \"/usr/local/lib/python3.9/dist-packages/jupyter_core/utils/__init__.py\", line 166, in wrapped\n",
            "    return loop.run_until_complete(inner)\n",
            "  File \"/usr/lib/python3.9/asyncio/base_events.py\", line 647, in run_until_complete\n",
            "    return future.result()\n",
            "  File \"/usr/local/lib/python3.9/dist-packages/nbclient/client.py\", line 1020, in async_execute_cell\n",
            "    await self._check_raise_for_error(cell, cell_index, exec_reply)\n",
            "  File \"/usr/local/lib/python3.9/dist-packages/nbclient/client.py\", line 914, in _check_raise_for_error\n",
            "    raise CellExecutionError.from_cell_and_msg(cell, exec_reply_content)\n",
            "nbclient.exceptions.CellExecutionError: An error occurred while executing the following cell:\n",
            "------------------\n",
            "# 이것은 전역 선언\n",
            "from google.colab import drive\n",
            "drive.mount('/content/drive')\n",
            "\n",
            "import sys\n",
            "sys.path.append('/content/drive/MyDrive/ETRI_RE')  # my_project 디렉토리의 경로로 변경해야 합니다.\n",
            "------------------\n",
            "\n",
            "\u001b[0;31m---------------------------------------------------------------------------\u001b[0m\n",
            "\u001b[0;31mModuleNotFoundError\u001b[0m                       Traceback (most recent call last)\n",
            "Cell \u001b[0;32mIn[3], line 2\u001b[0m\n",
            "\u001b[1;32m      1\u001b[0m \u001b[38;5;66;03m# 이것은 전역 선언\u001b[39;00m\n",
            "\u001b[0;32m----> 2\u001b[0m \u001b[38;5;28;01mfrom\u001b[39;00m \u001b[38;5;21;01mgoogle\u001b[39;00m\u001b[38;5;21;01m.\u001b[39;00m\u001b[38;5;21;01mcolab\u001b[39;00m \u001b[38;5;28;01mimport\u001b[39;00m drive\n",
            "\u001b[1;32m      3\u001b[0m drive\u001b[38;5;241m.\u001b[39mmount(\u001b[38;5;124m'\u001b[39m\u001b[38;5;124m/content/drive\u001b[39m\u001b[38;5;124m'\u001b[39m)\n",
            "\u001b[1;32m      5\u001b[0m \u001b[38;5;28;01mimport\u001b[39;00m \u001b[38;5;21;01msys\u001b[39;00m\n",
            "\n",
            "\u001b[0;31mModuleNotFoundError\u001b[0m: No module named 'google.colab'\n",
            "ModuleNotFoundError: No module named 'google.colab' 1\n",
            "364.0091724395752\n"
          ]
        }
      ]
    },
    {
      "cell_type": "markdown",
      "source": [
        "**아래 코드부터는 돌리지 않아도 제출 가능합니다.**"
      ],
      "metadata": {
        "id": "8snsNkg7cXIC"
      }
    },
    {
      "cell_type": "code",
      "source": [
        "from google.colab import drive\n",
        "drive.mount('/content/drive')"
      ],
      "metadata": {
        "id": "ka9kjWMew5j_"
      },
      "execution_count": null,
      "outputs": []
    },
    {
      "cell_type": "code",
      "execution_count": null,
      "metadata": {
        "scrolled": true,
        "id": "RoU5iBbswrLg"
      },
      "outputs": [],
      "source": [
        "Train_csv = pd.read_csv(\"/content/drive/MyDrive/ETRI_RE/Dataset/info_etri20_emotion_train.csv\")\n",
        "Test_csv = pd.read_csv(\"/content/drive/MyDrive/ETRI_RE/Dataset/info_etri20_emotion_test_sample.csv\")\n",
        "pd.set_option('display.max_columns', None) ## 모든 열을 출력한다.\n",
        "pd.set_option('display.max_rows', None) ## 모든 행을 출력한다."
      ]
    },
    {
      "cell_type": "code",
      "execution_count": null,
      "metadata": {
        "id": "0OkPVJkPwrLh"
      },
      "outputs": [],
      "source": [
        "# 분류 대상 카테고리 선택하기 --- (※1)\n",
        "train_dir = \"/content/drive/MyDrive/ETRI_RE/Dataset/Train\"\n",
        "train_Y_Gender = Train_csv['Gender']\n",
        "train_Y_Daily = Train_csv['Daily']\n",
        "train_Y_Embellishment = Train_csv['Embellishment']\n",
        "\n",
        "# 이미지 크기 지정 --- (※2)\n",
        "image_w = 64\n",
        "image_h = 64\n",
        "pixels = image_w * image_h * 3\n",
        "\n",
        "# 이미지 데이터 읽어 들이기 --- (※3)\n",
        "train_X = []\n",
        "#Y = []\n",
        "for idx, image_name in enumerate(Train_csv['image_name']):\n",
        "    #print(image_name)\n",
        "    print(idx, end=\", \")\n",
        "    f = train_dir + '/' + image_name\n",
        "    img = Image.open(f) # --- (※6)\n",
        "\n",
        "    # x_min, y_min, x_max, y_max 정의\n",
        "    x_min = int(Train_csv['BBox_xmin'][idx])\n",
        "    y_min = int(Train_csv['BBox_ymin'][idx])\n",
        "    x_max = int(Train_csv['BBox_xmax'][idx])\n",
        "    y_max = int(Train_csv['BBox_ymax'][idx])\n",
        "\n",
        "    # 좌표로 이미지 자르기\n",
        "    crop_img = img.crop((x_min, y_min, x_max, y_max))\n",
        "\n",
        "    img = crop_img.convert(\"RGB\")\n",
        "    img = img.resize((image_w, image_h))\n",
        "    data = np.asarray(img)\n",
        "    train_X.append(data)\n",
        "\n",
        "\n",
        "train_X = np.array(train_X)\n",
        "train_Y_Gender = np.array(train_Y_Gender)\n",
        "train_Y_Daily = np.array(train_Y_Daily)\n",
        "train_Y_Embellishment = np.array(train_Y_Embellishment)\n"
      ]
    },
    {
      "cell_type": "code",
      "execution_count": null,
      "metadata": {
        "id": "9qwLY2WjwrLi"
      },
      "outputs": [],
      "source": [
        "# Test-set 만들기\n",
        "\n",
        "# 분류 대상 카테고리 선택하기 --- (※1)\n",
        "#test_dir = ETRIDataset_emo(Test_csv, base_path='/aif/Dataset/Test/')\n",
        "test_dir = \"/content/drive/MyDrive/ETRI_RE/Dataset/Test_sample\"\n",
        "\n",
        "test_Y_Gender = Test_csv['Gender']\n",
        "test_Y_Daily = Test_csv['Daily']\n",
        "test_Y_Embellishment = Test_csv['Embellishment']\n",
        "\n",
        "# 이미지 크기 지정 --- (※2)\n",
        "image_w = 64\n",
        "image_h = 64\n",
        "pixels = image_w * image_h * 3\n",
        "\n",
        "# 이미지 데이터 읽어 들이기 --- (※3)\n",
        "test_X = []\n",
        "#Y = []\n",
        "for idx, image_name in enumerate(Test_csv['image_name']):\n",
        "    #print(image_name)\n",
        "    #print(idx)\n",
        "    f = test_dir + '/' + image_name\n",
        "    img = Image.open(f) # --- (※6)\n",
        "\n",
        "    # x_min, y_min, x_max, y_max 정의\n",
        "    x_min = int(Test_csv['BBox_xmin'][idx])\n",
        "    y_min = int(Test_csv['BBox_ymin'][idx])\n",
        "    x_max = int(Test_csv['BBox_xmax'][idx])\n",
        "    y_max = int(Test_csv['BBox_ymax'][idx])\n",
        "\n",
        "    # 좌표로 이미지 자르기\n",
        "    crop_img = img.crop((x_min, y_min, x_max, y_max))\n",
        "\n",
        "    img = crop_img.convert(\"RGB\")\n",
        "    img = img.resize((image_w, image_h))\n",
        "    data = np.asarray(img)\n",
        "    test_X.append(data)\n",
        "\n",
        "# 각각의 데이터들 numpy array로 변환\n",
        "test_X = np.array(test_X)\n",
        "test_Y_Gender = np.array(test_Y_Gender)\n",
        "test_Y_Daily = np.array(test_Y_Daily)\n",
        "test_Y_Embellishment = np.array(test_Y_Embellishment)"
      ]
    },
    {
      "cell_type": "code",
      "source": [
        "Gender_xy = (train_X, test_X, train_Y_Gender, test_Y_Gender)\n",
        "Daily_xy = (train_X, test_X, train_Y_Daily, test_Y_Daily)\n",
        "Embellishment_xy = (train_X, test_X, train_Y_Embellishment, test_Y_Embellishment)\n",
        "\n",
        "# drive에 crop한 이미지 npy 형태로 저장\n",
        "np.save(\"/content/drive/MyDrive/ETRI_RE/npy/Gender_xy.npy\", Gender_xy)\n",
        "np.save(\"/content/drive/MyDrive/ETRI_RE/npy/Daily_xy.npy\", Daily_xy)\n",
        "np.save(\"/content/drive/MyDrive/ETRI_RE/npy/Embellishment_xy.npy\", Embellishment_xy)"
      ],
      "metadata": {
        "id": "_KXt8TTY8s9H"
      },
      "execution_count": null,
      "outputs": []
    },
    {
      "cell_type": "markdown",
      "metadata": {
        "id": "X9ZSuRofwrLi"
      },
      "source": [
        "## CNN 으로 분류하기 (케라스 이용)"
      ]
    },
    {
      "cell_type": "code",
      "source": [
        "# 전처리 완료한 데이터 로드\n",
        "train_X, test_X, train_Y_Gender, test_Y_Gender = np.load(\"/content/drive/MyDrive/ETRI_RE/Gender_xy.npy\", allow_pickle=True)\n",
        "train_X, test_X, train_Y_Daily, test_Y_Daily = np.load(\"/content/drive/MyDrive/ETRI_RE/Daily_xy.npy\", allow_pickle=True)\n",
        "train_X, test_X, train_Y_Embellishment, test_Y_Embellishment = np.load(\"/content/drive/MyDrive/ETRI_RE/Embellishment_xy.npy\", allow_pickle=True)\n",
        "\n",
        "# 데이터 정규화하기\n",
        "train_X = train_X.astype(\"float\") / 256\n",
        "test_X  = test_X.astype(\"float\")  / 256\n",
        "print('train_X shape:', train_X.shape)\n",
        "\n",
        "# 이미지 크기 지정하기\n",
        "image_w = 64\n",
        "image_h = 64"
      ],
      "metadata": {
        "id": "m-jK7S-pB_63"
      },
      "execution_count": null,
      "outputs": []
    },
    {
      "cell_type": "code",
      "execution_count": null,
      "metadata": {
        "id": "x2HI-IkrwrLj"
      },
      "outputs": [],
      "source": [
        "# Gender 성\n",
        "# Gender_xy = (train_X, test_X, train_Y_Gender, test_Y_Gender)\n",
        "\n",
        "# 카테고리 지정하기\n",
        "Gender_categories = [0,1,2,3,4]\n",
        "Gender_nb_classes = len(Gender_categories)\n"
      ]
    },
    {
      "cell_type": "code",
      "source": [
        "# Daily 일상성\n",
        "\n",
        "# 카테고리 지정하기\n",
        "Daily_categories = [0,1,2,3,4,5,6]\n",
        "Daily_nb_classes = len(Daily_categories)\n"
      ],
      "metadata": {
        "id": "nvo7dQ0N6Ar6"
      },
      "execution_count": null,
      "outputs": []
    },
    {
      "cell_type": "code",
      "source": [
        "#Embellishment 장식성\n",
        "\n",
        "# 카테고리 지정하기\n",
        "Embellishment_categories = [0,1,2,3]\n",
        "nb_classes = len(Embellishment_categories)\n"
      ],
      "metadata": {
        "id": "X9m02x9O6BW4"
      },
      "execution_count": null,
      "outputs": []
    },
    {
      "cell_type": "code",
      "execution_count": null,
      "metadata": {
        "id": "KNDhXZm0wrLk"
      },
      "outputs": [],
      "source": [
        "# Gender\n",
        "# Category 0~4를 2진수 배열 형태의 a~e로 변환\n",
        "# 5, 7, 4\n",
        "train_Y_Gender_bin = []\n",
        "test_Y_Gender_bin = []\n",
        "\n",
        "a = [1, 0, 0, 0, 0]\n",
        "b = [0, 1, 0, 0, 0]\n",
        "c = [0, 0, 1, 0, 0]\n",
        "d = [0, 0, 0, 1, 0]\n",
        "e = [0, 0, 0, 0, 1]\n",
        "\n",
        "for before ,name in [[train_Y_Gender, train_Y_Gender_bin],[test_Y_Gender,test_Y_Gender_bin] ] :\n",
        "  for y in before :\n",
        "    if y == 0:\n",
        "        name.append(a)\n",
        "    if y == 1:\n",
        "        name.append(b)\n",
        "    if y == 2:\n",
        "        name.append(c)\n",
        "    if y == 3:\n",
        "        name.append(d)\n",
        "    if y == 4:\n",
        "        name.append(e)\n",
        "train_Y_Gender_bin"
      ]
    },
    {
      "cell_type": "code",
      "execution_count": null,
      "metadata": {
        "id": "GPzoQ70CwrLk"
      },
      "outputs": [],
      "source": [
        "# Daily\n",
        "# Category 0~6를 2진수 배열 형태의 a~g로 변환\n",
        "\n",
        "train_Y_Daily_bin = []\n",
        "test_Y_Daily_bin = []\n",
        "\n",
        "a = [1, 0, 0, 0, 0, 0, 0]\n",
        "b = [0, 1, 0, 0, 0, 0, 0]\n",
        "c = [0, 0, 1, 0, 0, 0, 0]\n",
        "d = [0, 0, 0, 1, 0, 0, 0]\n",
        "e = [0, 0, 0, 0, 1, 0, 0]\n",
        "f = [0, 0, 0, 1, 0, 1, 0]\n",
        "g = [0, 0, 0, 0, 0, 0, 1]\n",
        "\n",
        "for before ,name in [[train_Y_Daily , train_Y_Daily_bin], [test_Y_Daily, test_Y_Daily_bin] ]  :\n",
        "  for y in before :\n",
        "    if y == 0:\n",
        "        name.append(a)\n",
        "    if y == 1:\n",
        "        name.append(b)\n",
        "    if y == 2:\n",
        "        name.append(c)\n",
        "    if y == 3:\n",
        "        name.append(d)\n",
        "    if y == 4:\n",
        "        name.append(e)\n",
        "    if y == 5:\n",
        "        name.append(f)\n",
        "    if y == 6:\n",
        "        name.append(g)\n",
        "test_Y_Daily_bin"
      ]
    },
    {
      "cell_type": "code",
      "source": [
        "# Embellishment\n",
        "# Category 0~3를 2진수 배열 형태의 a~d로 변환\n",
        "\n",
        "train_Y_Embellishment_bin = []\n",
        "test_Y_Embellishment_bin = []\n",
        "\n",
        "a = [1, 0, 0, 0]\n",
        "b = [0, 1, 0, 0]\n",
        "c = [0, 0, 1, 0]\n",
        "d = [0, 0, 0, 1]\n",
        "\n",
        "\n",
        "for before ,name in [[train_Y_Embellishment, train_Y_Embellishment_bin], [test_Y_Embellishment,test_Y_Embellishment_bin] ] :\n",
        "  for y in before :\n",
        "    if y == 0:\n",
        "        name.append(a)\n",
        "    if y == 1:\n",
        "        name.append(b)\n",
        "    if y == 2:\n",
        "        name.append(c)\n",
        "    if y == 3:\n",
        "        name.append(d)\n",
        "test_Y_Embellishment_bin"
      ],
      "metadata": {
        "id": "nwgY-JMoOj1u"
      },
      "execution_count": null,
      "outputs": []
    },
    {
      "cell_type": "code",
      "execution_count": null,
      "metadata": {
        "id": "DPODofH5wrLl"
      },
      "outputs": [],
      "source": [
        "# 각 리스트들을 numpy array로 변환\n",
        "train_Y_Gender_bin = np.array(train_Y_Gender_bin)\n",
        "test_Y_Gender_bin = np.array(test_Y_Gender_bin)\n",
        "\n",
        "train_Y_Daily_bin = np.array(train_Y_Daily_bin)\n",
        "test_Y_Daily_bin = np.array(test_Y_Daily_bin)\n",
        "\n",
        "train_Y_Embellishment_bin = np.array(train_Y_Embellishment_bin)\n",
        "test_Y_Embellishment_bin = np.array(test_Y_Embellishment_bin)"
      ]
    },
    {
      "cell_type": "markdown",
      "source": [
        " **Gender classification 모델**"
      ],
      "metadata": {
        "id": "o1B_hxqPrd-P"
      }
    },
    {
      "cell_type": "code",
      "execution_count": null,
      "metadata": {
        "scrolled": true,
        "id": "4rFBFsDKwrLm"
      },
      "outputs": [],
      "source": [
        "# 모델 구축하기 --- (※2)\n",
        "Gender_model = Sequential()\n",
        "Gender_model.add(Convolution2D(32, (3, 3),\n",
        "    padding='same',\n",
        "    input_shape=train_X.shape[1:]))\n",
        "Gender_model.add(Activation('relu'))\n",
        "Gender_model.add(MaxPooling2D(pool_size=(2, 2)))\n",
        "Gender_model.add(Dropout(0.25))\n",
        "\n",
        "Gender_model.add(Convolution2D(64, (3, 3), padding='same'))\n",
        "Gender_model.add(Activation('relu'))\n",
        "Gender_model.add(Convolution2D(64, (3, 3)))\n",
        "Gender_model.add(MaxPooling2D(pool_size=(2, 2)))\n",
        "Gender_model.add(Dropout(0.25))\n",
        "\n",
        "Gender_model.add(Flatten()) # --- (※3)\n",
        "Gender_model.add(Dense(512))\n",
        "Gender_model.add(Activation('relu'))\n",
        "Gender_model.add(Dropout(0.5))\n",
        "Gender_model.add(Dense(5))  #Dense(nb_classes) 이거 Y class 갯수만큼 바꿔줘야함. ex. 0~6 --> 7\n",
        "Gender_model.add(Activation('softmax'))\n",
        "\n",
        "Gender_model.compile(loss='categorical_crossentropy',\n",
        "    optimizer='rmsprop',\n",
        "    metrics=['accuracy'])"
      ]
    },
    {
      "cell_type": "code",
      "source": [
        "epoch = 50"
      ],
      "metadata": {
        "id": "pVGIQNrORQLr"
      },
      "execution_count": null,
      "outputs": []
    },
    {
      "cell_type": "code",
      "source": [
        "# 모델 훈련하기 --- (※4)\n",
        "epoch = 50\n",
        "Gender_model.fit(train_X, train_Y_Gender_bin, batch_size=32, epochs = epoch)"
      ],
      "metadata": {
        "id": "Fk92c5ptqPWs"
      },
      "execution_count": null,
      "outputs": []
    },
    {
      "cell_type": "code",
      "source": [
        "# 모델 평가하기--- (※5)\n",
        "Gender_score = Gender_model.evaluate(test_X, test_Y_Gender_bin)\n",
        "print('loss=', Gender_score[0])\n",
        "print('accuracy=', Gender_score[1])"
      ],
      "metadata": {
        "id": "-tkqVil0Q0xp"
      },
      "execution_count": null,
      "outputs": []
    },
    {
      "cell_type": "code",
      "source": [
        "#os.mkdir('/content/drive/MyDrive/ETRI_RE/CNN_models')"
      ],
      "metadata": {
        "id": "m5WkE6iDwtZa"
      },
      "execution_count": null,
      "outputs": []
    },
    {
      "cell_type": "code",
      "source": [
        "# 모델 저장하기\n",
        "Gender_model.save(\"/content/drive/MyDrive/ETRI_RE/CNN_models/Gender_model_CNN.h5\")"
      ],
      "metadata": {
        "id": "SNbIuMqFqcn-"
      },
      "execution_count": null,
      "outputs": []
    },
    {
      "cell_type": "markdown",
      "source": [
        "**Daily Clssification 모델**"
      ],
      "metadata": {
        "id": "mEOit4_HsZ7_"
      }
    },
    {
      "cell_type": "code",
      "source": [
        "# 모델 구축하기 --- (※2)\n",
        "Daily_model = Sequential()\n",
        "Daily_model.add(Convolution2D(32, (3, 3),\n",
        "    padding='same',\n",
        "    input_shape=train_X.shape[1:]))\n",
        "Daily_model.add(Activation('relu'))\n",
        "Daily_model.add(MaxPooling2D(pool_size=(2, 2)))\n",
        "Daily_model.add(Dropout(0.25))\n",
        "\n",
        "Daily_model.add(Convolution2D(64, (3, 3), padding='same'))\n",
        "Daily_model.add(Activation('relu'))\n",
        "Daily_model.add(Convolution2D(64, (3, 3)))\n",
        "Daily_model.add(MaxPooling2D(pool_size=(2, 2)))\n",
        "Daily_model.add(Dropout(0.25))\n",
        "\n",
        "Daily_model.add(Flatten()) # --- (※3)\n",
        "Daily_model.add(Dense(512))\n",
        "Daily_model.add(Activation('relu'))\n",
        "Daily_model.add(Dropout(0.5))\n",
        "Daily_model.add(Dense(7))  #Dense(nb_classes) 이거 Y class 갯수만큼 바꿔줘야함. ex. 0~6 --> 7\n",
        "Daily_model.add(Activation('softmax'))\n",
        "\n",
        "Daily_model.compile(loss='categorical_crossentropy',\n",
        "    optimizer='rmsprop',\n",
        "    metrics=['accuracy'])"
      ],
      "metadata": {
        "id": "sEg-Xt2BrAHJ"
      },
      "execution_count": null,
      "outputs": []
    },
    {
      "cell_type": "code",
      "source": [
        "# 모델 훈련하기 --- (※4)\n",
        "epoch = 50\n",
        "Daily_model.fit(train_X, train_Y_Daily_bin, batch_size=32, epochs = epoch)"
      ],
      "metadata": {
        "id": "jtHjEAqps_tu"
      },
      "execution_count": null,
      "outputs": []
    },
    {
      "cell_type": "code",
      "source": [
        "# 모델 평가하기--- (※5)\n",
        "Daily_score = Daily_model.evaluate(test_X, test_Y_Daily_bin)\n",
        "print('loss=', Daily_score[0])\n",
        "print('accuracy=', Daily_score[1])\n"
      ],
      "metadata": {
        "id": "7yTQO31ts_yH"
      },
      "execution_count": null,
      "outputs": []
    },
    {
      "cell_type": "code",
      "source": [
        "# Train set 모델 평가하기--- (※5)\n",
        "Daily_score = Daily_model.evaluate(train_X, train_Y_Daily_bin)\n",
        "print('loss=', Daily_score[0])\n",
        "print('accuracy=', Daily_score[1])"
      ],
      "metadata": {
        "id": "ljr5xgFrU4Z7"
      },
      "execution_count": null,
      "outputs": []
    },
    {
      "cell_type": "code",
      "source": [
        "# 모델 저장하기\n",
        "Daily_model.save(\"/content/drive/MyDrive/ETRI_RE/CNN_models/Daily_model_CNN.h5\")"
      ],
      "metadata": {
        "id": "reaBcLAurANh"
      },
      "execution_count": null,
      "outputs": []
    },
    {
      "cell_type": "markdown",
      "source": [
        "**Embellishment Classification 모델**"
      ],
      "metadata": {
        "id": "OHcBZKtivPft"
      }
    },
    {
      "cell_type": "code",
      "source": [
        "# 모델 구축하기 --- (※2)\n",
        "Embellishment_model = Sequential()\n",
        "Embellishment_model.add(Convolution2D(32, (3, 3),\n",
        "    padding='same',\n",
        "    input_shape=train_X.shape[1:]))\n",
        "Embellishment_model.add(Activation('relu'))\n",
        "Embellishment_model.add(MaxPooling2D(pool_size=(2, 2)))\n",
        "Embellishment_model.add(Dropout(0.25))\n",
        "\n",
        "Embellishment_model.add(Convolution2D(64, (3, 3), padding='same'))\n",
        "Embellishment_model.add(Activation('relu'))\n",
        "Embellishment_model.add(Convolution2D(64, (3, 3)))\n",
        "Embellishment_model.add(MaxPooling2D(pool_size=(2, 2)))\n",
        "Embellishment_model.add(Dropout(0.25))\n",
        "\n",
        "Embellishment_model.add(Flatten()) # --- (※3)\n",
        "Embellishment_model.add(Dense(512))\n",
        "Embellishment_model.add(Activation('relu'))\n",
        "Embellishment_model.add(Dropout(0.5))\n",
        "Embellishment_model.add(Dense(4))  #Dense(nb_classes) 이거 Y class 갯수만큼 바꿔줘야함. ex. 0~6 --> 7\n",
        "Embellishment_model.add(Activation('softmax'))\n",
        "\n",
        "Embellishment_model.compile(loss='categorical_crossentropy',\n",
        "    optimizer='rmsprop',\n",
        "    metrics=['accuracy'])"
      ],
      "metadata": {
        "id": "iBpKeuiKrAQY"
      },
      "execution_count": null,
      "outputs": []
    },
    {
      "cell_type": "code",
      "source": [
        "# 모델 훈련하기 --- (※4)\n",
        "epoch = 50\n",
        "Embellishment_model.fit(train_X, train_Y_Embellishment_bin, batch_size=32, epochs = epoch)"
      ],
      "metadata": {
        "id": "1NBNiYIjrAWg"
      },
      "execution_count": null,
      "outputs": []
    },
    {
      "cell_type": "code",
      "source": [
        "# 모델 평가하기--- (※5)\n",
        "Embellishment_score = Embellishment_model.evaluate(test_X, test_Y_Embellishment_bin)\n",
        "print('loss=', Embellishment_score[0])\n",
        "print('accuracy=', Embellishment_score[1])"
      ],
      "metadata": {
        "id": "oITzt5sivd3w"
      },
      "execution_count": null,
      "outputs": []
    },
    {
      "cell_type": "code",
      "source": [
        "# 모델 저장하기\n",
        "Embellishment_model.save(\"/content/drive/MyDrive/ETRI_RE/CNN_models/Embellishment_model_CNN.h5\")"
      ],
      "metadata": {
        "id": "sAFk8szCvd6b"
      },
      "execution_count": null,
      "outputs": []
    },
    {
      "cell_type": "code",
      "source": [
        "# 원본 코드\n",
        "# 모델 구축하기 --- (※2)\n",
        "model = Sequential()\n",
        "model.add(Convolution2D(32, (3, 3),\n",
        "    padding='same',\n",
        "    input_shape=train_X.shape[1:]))\n",
        "model.add(Activation('relu'))\n",
        "model.add(MaxPooling2D(pool_size=(2, 2)))\n",
        "model.add(Dropout(0.25))\n",
        "\n",
        "model.add(Convolution2D(64, (3, 3), padding='same'))\n",
        "model.add(Activation('relu'))\n",
        "model.add(Convolution2D(64, (3, 3)))\n",
        "model.add(MaxPooling2D(pool_size=(2, 2)))\n",
        "model.add(Dropout(0.25))\n",
        "\n",
        "model.add(Flatten()) # --- (※3)\n",
        "model.add(Dense(512))\n",
        "model.add(Activation('relu'))\n",
        "model.add(Dropout(0.5))\n",
        "model.add(Dense(5))  #Dense(nb_classes) 이거 Y class 갯수만큼 바꿔줘야함. ex. 0~6 --> 7\n",
        "model.add(Activation('softmax'))\n",
        "\n",
        "model.compile(loss='categorical_crossentropy',\n",
        "    optimizer='rmsprop',\n",
        "    metrics=['accuracy'])\n",
        "\n",
        "# 모델 훈련하기 --- (※4)\n",
        "epoch = 30\n",
        "model.fit(train_X, train_Y_Gender_bin, batch_size=32, epochs = epoch)\n",
        "\n",
        "# 모델 평가하기--- (※5)\n",
        "score = model.evaluate(X_test, y_test_re)\n",
        "print('loss=', score[0])\n",
        "print('accuracy=', score[1])\n",
        "\n",
        "# 모델 저장하기\n",
        "model.save(\"CNN_cutted_gender.h5\")\n"
      ],
      "metadata": {
        "id": "VUbuWIQkrAhr"
      },
      "execution_count": null,
      "outputs": []
    },
    {
      "cell_type": "code",
      "source": [
        "# 모델 훈련하기 --- (※4)\n",
        "model.fit(X_train, y_train_re, batch_size=32, nb_epoch=50)\n",
        "\n",
        "# 모델 평가하기--- (※5)\n",
        "score = model.evaluate(X_test, y_test_re)\n",
        "print('loss=', score[0])\n",
        "print('accuracy=', score[1])"
      ],
      "metadata": {
        "id": "O2XA2QTzQ1pQ"
      },
      "execution_count": null,
      "outputs": []
    },
    {
      "cell_type": "code",
      "execution_count": null,
      "metadata": {
        "id": "tm7jAuWWwrLm"
      },
      "outputs": [],
      "source": [
        "# 모델 평가하기--- (※5)\n",
        "score = model.evaluate(X_test, y_test_re)\n",
        "print('loss=', score[0])\n",
        "print('accuracy=', score[1])"
      ]
    },
    {
      "cell_type": "code",
      "execution_count": null,
      "metadata": {
        "id": "f-dasoJWwrLm"
      },
      "outputs": [],
      "source": [
        "# 모델 평가하기--- TRAIN SET\n",
        "score = model.evaluate(X_train, y_train_re)\n",
        "print('loss=', score[0])\n",
        "print('accuracy=', score[1])"
      ]
    },
    {
      "cell_type": "code",
      "execution_count": null,
      "metadata": {
        "id": "WZ-doBmuwrLn"
      },
      "outputs": [],
      "source": [
        "# 모델 저장하기\n",
        "model.save(\"CNN_cutted_gender.h5\")"
      ]
    },
    {
      "cell_type": "code",
      "execution_count": null,
      "metadata": {
        "id": "Q--eU7d-wrLn"
      },
      "outputs": [],
      "source": [
        "# 모델 불러오기\n",
        "from keras.models import load_model\n",
        "model_copy = load_model(\"CNN_gender.h5\")\n",
        "model_copy.summary()"
      ]
    },
    {
      "cell_type": "code",
      "execution_count": null,
      "metadata": {
        "id": "NSNLCsnOwrLn"
      },
      "outputs": [],
      "source": [
        "from tensorflow.keras.models import Sequential\n",
        "from tensorflow.keras.layers import Convolution2D, MaxPooling2D, Dropout, Flatten, Dense, Activation\n",
        "\n",
        "# 모델 구축하기\n",
        "model = Sequential()\n",
        "model.add(Convolution2D(32, 3, 3,\n",
        "    border_mode='same',\n",
        "    input_shape=X_train.shape[1:]))\n",
        "model.add(Activation('relu'))\n",
        "model.add(MaxPooling2D(pool_size=(2, 2)))\n",
        "model.add(Dropout(0.25))\n",
        "\n",
        "model.add(Convolution2D(64, 3, 3, border_mode='same'))\n",
        "model.add(Activation('relu'))\n",
        "model.add(Convolution2D(64, 3, 3))\n",
        "model.add(MaxPooling2D(pool_size=(2, 2)))\n",
        "model.add(Dropout(0.25))\n",
        "\n",
        "model.add(Flatten())\n",
        "model.add(Dense(512))\n",
        "model.add(Activation('relu'))\n",
        "model.add(Dropout(0.5))\n",
        "model.add(Dense(1))  # Output node is changed to 1 for binary classification\n",
        "model.add(Activation('sigmoid'))  # Use sigmoid activation for binary classification\n",
        "\n",
        "model.compile(loss='binary_crossentropy',  # Use 'binary_crossentropy' for binary classification\n",
        "    optimizer='rmsprop',\n",
        "    metrics=['accuracy'])\n",
        "\n",
        "# 모델 훈련하기\n",
        "model.fit(X_train, y_train, batch_size=32, epochs=50)  # 'nb_epoch' is replaced with 'epochs'\n",
        "\n",
        "# 모델 평가하기\n",
        "score = model.evaluate(X_test, y_test)\n",
        "print('loss=', score[0])\n",
        "print('accuracy=', score[1])"
      ]
    }
  ],
  "metadata": {
    "kernelspec": {
      "display_name": "Python 3",
      "name": "python3"
    },
    "language_info": {
      "codemirror_mode": {
        "name": "ipython",
        "version": 3
      },
      "file_extension": ".py",
      "mimetype": "text/x-python",
      "name": "python",
      "nbconvert_exporter": "python",
      "pygments_lexer": "ipython3",
      "version": "3.7.7"
    },
    "colab": {
      "provenance": [],
      "gpuType": "T4",
      "include_colab_link": true
    },
    "accelerator": "GPU"
  },
  "nbformat": 4,
  "nbformat_minor": 0
}